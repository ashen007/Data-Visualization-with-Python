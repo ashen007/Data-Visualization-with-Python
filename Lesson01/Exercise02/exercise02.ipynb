{
 "cells": [
  {
   "cell_type": "markdown",
   "metadata": {},
   "source": [
    "## Exercise 02: Loading a sample dataset and calculating the mean."
   ]
  },
  {
   "cell_type": "markdown",
   "metadata": {},
   "source": [
    "In this exercise, we will be loading the `world_population.csv` dataset and calculate the mean of some rows and columns.   \n",
    "Our dataset holds the yearly population density for each country. We can, therefore, use Pandas to get some really quick and easy insights."
   ]
  },
  {
   "cell_type": "markdown",
   "metadata": {},
   "source": [
    "#### Loading our dataset"
   ]
  },
  {
   "cell_type": "code",
   "execution_count": 1,
   "metadata": {},
   "outputs": [],
   "source": [
    "# importing the necessary dependencies\n",
    "import pandas as pd"
   ]
  },
  {
   "cell_type": "code",
   "execution_count": 2,
   "metadata": {},
   "outputs": [],
   "source": [
    "# loading the Dataset\n",
    "dataset = pd.read_csv('./data/world_population.csv', index_col=0)"
   ]
  },
  {
   "cell_type": "markdown",
   "metadata": {},
   "source": [
    "**Note:**   \n",
    "`index_col` enables you to use any column as an index instead of the incrementing int column that gets added by default. In our case, we want column 0, which is the country names, as indices."
   ]
  },
  {
   "cell_type": "code",
   "execution_count": 3,
   "metadata": {},
   "outputs": [
    {
     "data": {
      "text/plain": "             Country Code                                     Indicator Name  \\\nCountry Name                                                                   \nZambia                ZMB  Population density (people per sq. km of land ...   \nZimbabwe              ZWE  Population density (people per sq. km of land ...   \n\n             Indicator Code  1960       1961       1962       1963       1964  \\\nCountry Name                                                                    \nZambia          EN.POP.DNST   NaN   4.227724   4.359305   4.496824   4.639914   \nZimbabwe        EN.POP.DNST   NaN  10.021037  10.356112  10.703901  11.062585   \n\n                   1965       1966  ...       2007       2008       2009  \\\nCountry Name                        ...                                    \nZambia         4.788452   4.942343  ...  17.135926  17.641587  18.170609   \nZimbabwe      11.431128  11.809022  ...  34.374559  34.885516  35.468520   \n\n                   2010       2011       2012       2013       2014  \\\nCountry Name                                                          \nZambia        18.721585  19.294752  19.890745  20.508866  21.148177   \nZimbabwe      36.122262  36.850438  37.651498  38.511289  39.410249   \n\n                   2015  2016  \nCountry Name                   \nZambia        21.807890   NaN  \nZimbabwe      40.332819   NaN  \n\n[2 rows x 60 columns]",
      "text/html": "<div>\n<style scoped>\n    .dataframe tbody tr th:only-of-type {\n        vertical-align: middle;\n    }\n\n    .dataframe tbody tr th {\n        vertical-align: top;\n    }\n\n    .dataframe thead th {\n        text-align: right;\n    }\n</style>\n<table border=\"1\" class=\"dataframe\">\n  <thead>\n    <tr style=\"text-align: right;\">\n      <th></th>\n      <th>Country Code</th>\n      <th>Indicator Name</th>\n      <th>Indicator Code</th>\n      <th>1960</th>\n      <th>1961</th>\n      <th>1962</th>\n      <th>1963</th>\n      <th>1964</th>\n      <th>1965</th>\n      <th>1966</th>\n      <th>...</th>\n      <th>2007</th>\n      <th>2008</th>\n      <th>2009</th>\n      <th>2010</th>\n      <th>2011</th>\n      <th>2012</th>\n      <th>2013</th>\n      <th>2014</th>\n      <th>2015</th>\n      <th>2016</th>\n    </tr>\n    <tr>\n      <th>Country Name</th>\n      <th></th>\n      <th></th>\n      <th></th>\n      <th></th>\n      <th></th>\n      <th></th>\n      <th></th>\n      <th></th>\n      <th></th>\n      <th></th>\n      <th></th>\n      <th></th>\n      <th></th>\n      <th></th>\n      <th></th>\n      <th></th>\n      <th></th>\n      <th></th>\n      <th></th>\n      <th></th>\n      <th></th>\n    </tr>\n  </thead>\n  <tbody>\n    <tr>\n      <th>Zambia</th>\n      <td>ZMB</td>\n      <td>Population density (people per sq. km of land ...</td>\n      <td>EN.POP.DNST</td>\n      <td>NaN</td>\n      <td>4.227724</td>\n      <td>4.359305</td>\n      <td>4.496824</td>\n      <td>4.639914</td>\n      <td>4.788452</td>\n      <td>4.942343</td>\n      <td>...</td>\n      <td>17.135926</td>\n      <td>17.641587</td>\n      <td>18.170609</td>\n      <td>18.721585</td>\n      <td>19.294752</td>\n      <td>19.890745</td>\n      <td>20.508866</td>\n      <td>21.148177</td>\n      <td>21.807890</td>\n      <td>NaN</td>\n    </tr>\n    <tr>\n      <th>Zimbabwe</th>\n      <td>ZWE</td>\n      <td>Population density (people per sq. km of land ...</td>\n      <td>EN.POP.DNST</td>\n      <td>NaN</td>\n      <td>10.021037</td>\n      <td>10.356112</td>\n      <td>10.703901</td>\n      <td>11.062585</td>\n      <td>11.431128</td>\n      <td>11.809022</td>\n      <td>...</td>\n      <td>34.374559</td>\n      <td>34.885516</td>\n      <td>35.468520</td>\n      <td>36.122262</td>\n      <td>36.850438</td>\n      <td>37.651498</td>\n      <td>38.511289</td>\n      <td>39.410249</td>\n      <td>40.332819</td>\n      <td>NaN</td>\n    </tr>\n  </tbody>\n</table>\n<p>2 rows × 60 columns</p>\n</div>"
     },
     "execution_count": 3,
     "metadata": {},
     "output_type": "execute_result"
    }
   ],
   "source": [
    "# looking at the dataset\n",
    "dataset\n",
    "dataset.head(6)\n",
    "dataset.tail(2)"
   ]
  },
  {
   "cell_type": "markdown",
   "metadata": {},
   "source": [
    "---"
   ]
  },
  {
   "cell_type": "markdown",
   "metadata": {},
   "source": [
    "#### After loading our dataset"
   ]
  },
  {
   "cell_type": "markdown",
   "metadata": {},
   "source": [
    "To get a quick overview of our dataset we want to print out the \"shape\" of it.   \n",
    "This will give us an output of the form (rows, columns)"
   ]
  },
  {
   "cell_type": "code",
   "execution_count": 4,
   "metadata": {},
   "outputs": [
    {
     "data": {
      "text/plain": "(264, 60)"
     },
     "execution_count": 4,
     "metadata": {},
     "output_type": "execute_result"
    }
   ],
   "source": [
    "# printing the shape of our dataset\n",
    "dataset.shape"
   ]
  },
  {
   "cell_type": "code",
   "execution_count": 5,
   "metadata": {},
   "outputs": [
    {
     "data": {
      "text/plain": "176.91514132840555"
     },
     "execution_count": 5,
     "metadata": {},
     "output_type": "execute_result"
    }
   ],
   "source": [
    "# calculating the mean for 1961 column\n",
    "dataset['1961'].mean()"
   ]
  },
  {
   "cell_type": "code",
   "execution_count": 6,
   "metadata": {},
   "outputs": [
    {
     "data": {
      "text/plain": "368.70660104001837"
     },
     "execution_count": 6,
     "metadata": {},
     "output_type": "execute_result"
    }
   ],
   "source": [
    "# calculating the mean for 2015 column\n",
    "dataset['2015'].mean()"
   ]
  },
  {
   "cell_type": "markdown",
   "metadata": {},
   "source": [
    "**Note:**   \n",
    "Only by comaparing the overall mean of the two years, 1961 and 2015, we can already see that the mean population density **more than doubled** in this time range."
   ]
  },
  {
   "cell_type": "code",
   "execution_count": 7,
   "metadata": {},
   "outputs": [
    {
     "data": {
      "text/plain": "Country Name\nAruba               413.944949\nAndorra             106.838839\nAfghanistan          25.373379\nAngola                9.649583\nAlbania              99.159197\n                       ...    \nYemen, Rep.          24.702231\nSouth Africa         28.599504\nCongo, Dem. Rep.     16.661282\nZambia               11.055234\nZimbabwe             24.520532\nLength: 264, dtype: float64"
     },
     "execution_count": 7,
     "metadata": {},
     "output_type": "execute_result"
    }
   ],
   "source": [
    "# mean for each country (row)\n",
    "dataset.mean(axis=1)"
   ]
  },
  {
   "cell_type": "code",
   "execution_count": 8,
   "metadata": {},
   "outputs": [
    {
     "data": {
      "text/plain": "1960           NaN\n1961    176.915141\n1962    180.703231\n1963    184.572413\n1964    188.461797\n1965    192.412363\n1966    196.145042\n1967    200.118063\n1968    203.879464\n1969    207.336102\n1970    210.607871\n1971    213.489694\n1972    215.998475\n1973    218.438708\n1974    220.621210\n1975    223.046375\n1976    224.960258\n1977    227.006734\n1978    229.187306\n1979    232.510772\n1980    236.185357\n1981    240.789508\n1982    246.175178\n1983    251.342389\n1984    256.647822\n1985    261.680751\n1986    266.647038\n1987    271.768300\n1988    276.813259\n1989    281.850054\n1990    286.062387\n1991    288.292566\n1992    293.305416\n1993    297.759160\n1994    302.275463\n1995    304.537276\n1996    309.714948\n1997    313.896935\n1998    320.405981\n1999    324.004669\n2000    327.270760\n2001    312.259570\n2002    313.269043\n2003    315.847613\n2004    317.746559\n2005    322.669534\n2006    326.907971\n2007    331.995474\n2008    338.688417\n2009    343.649206\n2010    347.967029\n2011    351.942027\n2012    357.787305\n2013    360.985726\n2014    364.849194\n2015    368.706601\n2016           NaN\ndtype: float64"
     },
     "execution_count": 8,
     "metadata": {},
     "output_type": "execute_result"
    }
   ],
   "source": [
    "# mean for each feature (col)\n",
    "dataset.mean(axis=0)"
   ]
  },
  {
   "cell_type": "markdown",
   "metadata": {},
   "source": [
    "**Note:**   \n",
    "The axis parameter is again needed to control the aggregation flow."
   ]
  },
  {
   "cell_type": "code",
   "execution_count": 9,
   "metadata": {},
   "outputs": [
    {
     "data": {
      "text/plain": "1960           NaN\n1961    176.915141\n1962    180.703231\n1963    184.572413\n1964    188.461797\n1965    192.412363\n1966    196.145042\n1967    200.118063\n1968    203.879464\n1969    207.336102\n1970    210.607871\n1971    213.489694\n1972    215.998475\n1973    218.438708\n1974    220.621210\n1975    223.046375\n1976    224.960258\n1977    227.006734\n1978    229.187306\n1979    232.510772\n1980    236.185357\n1981    240.789508\n1982    246.175178\n1983    251.342389\n1984    256.647822\n1985    261.680751\n1986    266.647038\n1987    271.768300\n1988    276.813259\n1989    281.850054\n1990    286.062387\n1991    288.292566\n1992    293.305416\n1993    297.759160\n1994    302.275463\n1995    304.537276\n1996    309.714948\n1997    313.896935\n1998    320.405981\n1999    324.004669\n2000    327.270760\n2001    312.259570\n2002    313.269043\n2003    315.847613\n2004    317.746559\n2005    322.669534\n2006    326.907971\n2007    331.995474\n2008    338.688417\n2009    343.649206\n2010    347.967029\n2011    351.942027\n2012    357.787305\n2013    360.985726\n2014    364.849194\n2015    368.706601\n2016           NaN\ndtype: float64"
     },
     "execution_count": 9,
     "metadata": {},
     "output_type": "execute_result"
    }
   ],
   "source": [
    "# calculating the mean for the whole matrix\n",
    "dataset.mean()"
   ]
  },
  {
   "cell_type": "markdown",
   "metadata": {},
   "source": [
    "**Note:**   \n",
    "If you compare the result of this last cell with the one about `# mean for each col` you can see that the default axis is 0 which leads to the same result as the cell above."
   ]
  },
  {
   "cell_type": "markdown",
   "metadata": {},
   "source": [
    "---"
   ]
  },
  {
   "cell_type": "markdown",
   "metadata": {},
   "source": [
    "Using a real dataset with Pandas can already give us some quick and easy insights into our data.  \n",
    "In this case we can already see that the mean population density increased constantly for each year."
   ]
  }
 ],
 "metadata": {
  "kernelspec": {
   "display_name": "Python 3",
   "language": "python",
   "name": "python3"
  },
  "language_info": {
   "codemirror_mode": {
    "name": "ipython",
    "version": 3
   },
   "file_extension": ".py",
   "mimetype": "text/x-python",
   "name": "python",
   "nbconvert_exporter": "python",
   "pygments_lexer": "ipython3",
   "version": "3.7.0"
  }
 },
 "nbformat": 4,
 "nbformat_minor": 2
}