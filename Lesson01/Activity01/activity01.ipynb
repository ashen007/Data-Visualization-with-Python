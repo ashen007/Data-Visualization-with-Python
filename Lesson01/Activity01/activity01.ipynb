{
 "cells": [
  {
   "cell_type": "markdown",
   "metadata": {},
   "source": [
    "## Activity 01: Use NumPy to compute the Mean, Median, and Variance"
   ]
  },
  {
   "cell_type": "markdown",
   "metadata": {},
   "source": [
    "In this activity, you will consolidate the skills you've acquired in the last exercise and use NumPy to do some very basic mathematical calculations on our `normal_distribution` dataset.   \n",
    "NumPy has a consistent API, so it should be rather easy to transfer your knowledge of the mean method to median and variance. "
   ]
  },
  {
   "cell_type": "markdown",
   "metadata": {},
   "source": [
    "#### Loading the dataset"
   ]
  },
  {
   "cell_type": "code",
   "execution_count": 52,
   "metadata": {},
   "outputs": [],
   "source": [
    "# importing the necessary dependencies\n",
    "import numpy as np"
   ]
  },
  {
   "cell_type": "code",
   "execution_count": 53,
   "metadata": {},
   "outputs": [],
   "source": [
    "# loading the Dataset\n",
    "dataset = np.genfromtxt('./data/normal_distribution.csv', delimiter=',')"
   ]
  },
  {
   "cell_type": "code",
   "execution_count": 54,
   "metadata": {},
   "outputs": [
    {
     "data": {
      "text/plain": "array([[ 99.14931546, 104.03852715, 107.43534677,  97.85230675,\n         98.74986914,  98.80833412,  96.81964892,  98.56783189],\n       [ 92.02628776,  97.10439252,  99.32066924,  97.24584816,\n         92.9267508 ,  92.65657752, 105.7197853 , 101.23162942]])"
     },
     "execution_count": 54,
     "metadata": {},
     "output_type": "execute_result"
    }
   ],
   "source": [
    "# looking at the first two rows of the dataset\n",
    "dataset[0:2]"
   ]
  },
  {
   "cell_type": "markdown",
   "metadata": {},
   "source": [
    "---"
   ]
  },
  {
   "cell_type": "markdown",
   "metadata": {},
   "source": [
    "#### Mean"
   ]
  },
  {
   "cell_type": "code",
   "execution_count": 55,
   "metadata": {},
   "outputs": [
    {
     "data": {
      "text/plain": "(100.20466135250001, 100.20466135250001)"
     },
     "execution_count": 55,
     "metadata": {},
     "output_type": "execute_result"
    }
   ],
   "source": [
    "# calculate the mean of the third row\n",
    "total = np.sum(dataset[2])\n",
    "count = len(dataset[2])\n",
    "mean = total/count\n",
    "mean1 = np.mean(dataset[2])\n",
    "mean, mean1"
   ]
  },
  {
   "cell_type": "code",
   "execution_count": 56,
   "metadata": {},
   "outputs": [
    {
     "data": {
      "text/plain": "(100.4404927375,\n array([ 99.7674351 ,  99.61229127, 101.14584656, 101.8449316 ,\n         99.04871791,  99.67838931,  99.7848489 , 100.44049274]),\n array([100.17764752,  97.27899259, 100.20466135, 100.56785907,\n        100.98341406,  97.83018578, 101.49052285,  99.75332252,\n        101.89845125,  99.77973914, 101.013081  , 100.54961696,\n         98.48256886,  98.49816126, 101.85956927,  97.05201872,\n        102.62147483, 101.21177037,  99.58777968,  98.96533534,\n        103.85792812, 101.89050288,  99.07192574,  99.34233101]))"
     },
     "execution_count": 56,
     "metadata": {},
     "output_type": "execute_result"
    }
   ],
   "source": [
    "# calculate the mean of the last column\n",
    "\n",
    "lastColMean = np.mean(dataset[:,-1])\n",
    "horizontal_mean = np.mean(dataset, axis=1)\n",
    "vertical_mean = np.mean(dataset, axis=0)\n",
    "lastColMean, vertical_mean, horizontal_mean"
   ]
  },
  {
   "cell_type": "code",
   "execution_count": 57,
   "metadata": {},
   "outputs": [
    {
     "data": {
      "text/plain": "(97.87197312333335,\n array([ 90.93318132,  92.02628776,  95.17750125,  95.66253664,\n         97.10439252,  99.14931546,  99.32066924, 104.03852715,\n        107.43534677]))"
     },
     "execution_count": 57,
     "metadata": {},
     "output_type": "execute_result"
    }
   ],
   "source": [
    "# calculate the mean of the intersection of the first 3 rows and first 3 columns\n",
    "\n",
    "data = np.intersect1d(dataset[:3], dataset[:, :3])\n",
    "np.mean(data), data"
   ]
  },
  {
   "cell_type": "markdown",
   "metadata": {},
   "source": [
    "---"
   ]
  },
  {
   "cell_type": "markdown",
   "metadata": {},
   "source": [
    "#### Median"
   ]
  },
  {
   "cell_type": "code",
   "execution_count": 58,
   "metadata": {},
   "outputs": [
    {
     "data": {
      "text/plain": "99.18748092"
     },
     "execution_count": 58,
     "metadata": {},
     "output_type": "execute_result"
    }
   ],
   "source": [
    "# calculate the median of the last row\n",
    "np.median(dataset[-1])"
   ]
  },
  {
   "cell_type": "code",
   "execution_count": 59,
   "metadata": {},
   "outputs": [
    {
     "data": {
      "text/plain": "99.47332349999999"
     },
     "execution_count": 59,
     "metadata": {},
     "output_type": "execute_result"
    }
   ],
   "source": [
    "# calculate the median of the last 3 columns\n",
    "np.median(dataset[:, -3:])"
   ]
  },
  {
   "cell_type": "code",
   "execution_count": 60,
   "metadata": {},
   "outputs": [
    {
     "data": {
      "text/plain": "array([ 98.77910163,  97.17512034,  98.58782879, 100.68449836,\n       101.00170737,  97.76908825, 101.85002253, 100.04756697,\n       102.24292555,  99.59514997, 100.4955753 ,  99.8860714 ,\n        99.00647994,  98.67276177, 102.44376222,  96.61933565,\n       104.0968893 , 100.72023043,  98.70877396,  99.75008654,\n       104.89344428, 101.00634942,  98.30543801,  99.18748092])"
     },
     "execution_count": 60,
     "metadata": {},
     "output_type": "execute_result"
    }
   ],
   "source": [
    "# calculate the median of each row\n",
    "np.median(dataset, axis=1)"
   ]
  },
  {
   "cell_type": "markdown",
   "metadata": {},
   "source": [
    "---"
   ]
  },
  {
   "cell_type": "markdown",
   "metadata": {},
   "source": [
    "#### Variance"
   ]
  },
  {
   "cell_type": "code",
   "execution_count": 61,
   "metadata": {},
   "outputs": [
    {
     "data": {
      "text/plain": "array([23.64757465, 29.78886109, 20.50542011, 26.03204443, 28.38853175,\n       19.09960817, 17.67291174, 16.17923204])"
     },
     "execution_count": 61,
     "metadata": {},
     "output_type": "execute_result"
    }
   ],
   "source": [
    "# calculate the variance of each column\n",
    "np.var(dataset, axis=0)"
   ]
  },
  {
   "cell_type": "code",
   "execution_count": 62,
   "metadata": {},
   "outputs": [
    {
     "data": {
      "text/plain": "13.824340469038788"
     },
     "execution_count": 62,
     "metadata": {},
     "output_type": "execute_result"
    }
   ],
   "source": [
    "# calculate the variance of the intersection of the last 2 rows and first 2 columns\n",
    "data1 = np.intersect1d(dataset[-2:], dataset[:, :3])\n",
    "np.var(data1)"
   ]
  },
  {
   "cell_type": "markdown",
   "metadata": {},
   "source": [
    "The values of the variance might seem a little bit strange at first.   \n",
    "You can always go back to the topic that gives you a quick statistical overview to recap what you've learned so far.   \n",
    "\n",
    "> **Note:**   \n",
    "Just remember, the variance is not the standard deviation.   \n",
    "\n",
    "Try calculation the standard deviation with NumPy to get a more descriptive value when comparing it to our dataset"
   ]
  },
  {
   "cell_type": "code",
   "execution_count": 63,
   "metadata": {},
   "outputs": [
    {
     "data": {
      "text/plain": "4.838197554269257"
     },
     "execution_count": 63,
     "metadata": {},
     "output_type": "execute_result"
    }
   ],
   "source": [
    "# calculate the standard deviation for the dataset\n",
    "np.std(dataset)"
   ]
  },
  {
   "cell_type": "markdown",
   "source": [
    "### inspecting dataset\n"
   ],
   "metadata": {
    "collapsed": false,
    "pycharm": {
     "name": "#%% md\n"
    }
   }
  },
  {
   "cell_type": "code",
   "execution_count": 64,
   "outputs": [
    {
     "data": {
      "text/plain": "array([[ 99.14931546, 104.03852715, 107.43534677,  97.85230675,\n         98.74986914,  98.80833412,  96.81964892,  98.56783189],\n       [ 92.02628776,  97.10439252,  99.32066924,  97.24584816,\n         92.9267508 ,  92.65657752, 105.7197853 , 101.23162942],\n       [ 95.66253664,  95.17750125,  90.93318132, 110.18889465,\n         98.80084371, 105.95297652,  98.37481387, 106.54654286],\n       [ 91.37294597, 100.96781394, 100.40118279, 113.42090475,\n        105.48508838,  91.6604946 , 106.1472841 ,  95.08715803],\n       [101.20862522, 103.5730309 , 100.28690912, 105.85269352,\n         93.37126331, 108.57980357, 100.79478953,  94.20019732],\n       [102.80387079,  98.29687616,  93.24376389,  97.24130034,\n         89.03452725,  96.2832753 , 104.60344836, 101.13442416],\n       [106.71751618, 102.97585605,  98.45723272, 100.72418901,\n        106.39798503,  95.46493436,  94.35373179, 106.83273763],\n       [ 96.02548256, 102.82360856, 106.47551845, 101.34745901,\n        102.45651798,  98.74767493,  97.57544275,  92.5748759 ],\n       [105.30350449,  92.87730812, 103.19258339, 104.40518318,\n        101.29326772, 100.85447132, 101.2226037 , 106.03868807],\n       [110.44484313,  93.87155456, 101.5363647 ,  97.65393524,\n         92.75048583, 101.72074646,  96.96851209, 103.29147111],\n       [101.3514185 , 100.37372248, 106.6471081 , 100.61742813,\n        105.0320535 ,  99.35999981,  98.87007532,  95.85284217],\n       [ 97.21315663, 107.02874163, 102.17642112,  96.74630281,\n         95.93799169, 102.62384733, 105.07475277,  97.59572169],\n       [ 95.65982034, 107.22482426, 107.19119932, 102.93039474,\n         85.98839623,  95.19184343,  91.32093303, 102.35313953],\n       [100.39303522,  92.0108226 ,  97.75887636,  93.18884302,\n        100.44940274, 108.09423367,  96.50342927,  99.58664719],\n       [103.1521596 , 109.40523174,  93.83969256,  99.95827854,\n        101.83462816,  99.69982772, 103.05289628, 103.93383957],\n       [106.11454989,  88.80221141,  94.5081787 ,  94.59300658,\n        101.08830521,  96.34622848,  96.89244283,  98.07122664],\n       [ 96.78266211,  99.84251605, 104.03478031, 106.57052697,\n        105.13668343, 105.37011896,  99.07551254, 104.15899829],\n       [101.86186193, 103.61720152,  99.57859892,  99.4889538 ,\n        103.05541444,  98.65912661,  98.72774132, 104.70526438],\n       [ 97.49594839,  96.59385486, 104.63817694, 102.55198606,\n        105.86078488,  96.5937781 ,  93.04610867,  99.92159953],\n       [ 96.76814836,  91.6779221 , 101.79132774, 101.20773355,\n         98.29243952, 101.83845792,  97.94046856, 102.20618501],\n       [106.89005002, 106.57364584, 102.26648279, 107.40064604,\n         99.94318168, 103.40412146, 106.38276709,  98.00253006],\n       [ 99.80873105, 101.63973121, 106.46476468, 110.43976681,\n        100.69156231,  99.99579473, 101.32113654,  94.76253572],\n       [ 96.10020311,  94.57421727, 100.80409326, 105.02389857,\n         98.61325194,  95.62359311,  97.99762409, 103.83852459],\n       [ 94.11176915,  99.62387832, 104.51786419,  97.62787811,\n         93.97853495,  98.75108352, 106.05042487, 100.07721494]])"
     },
     "execution_count": 64,
     "metadata": {},
     "output_type": "execute_result"
    }
   ],
   "source": [
    "dataset"
   ],
   "metadata": {
    "collapsed": false,
    "pycharm": {
     "name": "#%%\n"
    }
   }
  },
  {
   "cell_type": "code",
   "execution_count": 65,
   "outputs": [
    {
     "data": {
      "text/plain": "24"
     },
     "execution_count": 65,
     "metadata": {},
     "output_type": "execute_result"
    }
   ],
   "source": [
    "len(dataset)"
   ],
   "metadata": {
    "collapsed": false,
    "pycharm": {
     "name": "#%%\n"
    }
   }
  },
  {
   "cell_type": "code",
   "execution_count": 66,
   "outputs": [
    {
     "name": "stdout",
     "output_type": "stream",
     "text": [
      "99.14931546\n",
      "92.02628776\n",
      "95.66253664\n",
      "91.37294597\n",
      "101.20862522\n",
      "102.80387079\n",
      "106.71751618\n",
      "96.02548256\n",
      "105.30350449\n",
      "110.44484313\n",
      "101.3514185\n",
      "97.21315663\n",
      "95.65982034\n",
      "100.39303522\n",
      "103.1521596\n",
      "106.11454989\n",
      "96.78266211\n",
      "101.86186193\n",
      "97.49594839\n",
      "96.76814836\n",
      "106.89005002\n",
      "99.80873105\n",
      "96.10020311\n",
      "94.11176915\n"
     ]
    }
   ],
   "source": [
    "# first column\n",
    "for row in dataset:\n",
    "    print(row[0])"
   ],
   "metadata": {
    "collapsed": false,
    "pycharm": {
     "name": "#%%\n"
    }
   }
  },
  {
   "cell_type": "code",
   "execution_count": 67,
   "outputs": [
    {
     "data": {
      "text/plain": "array([ 99.14931546, 104.03852715, 107.43534677,  97.85230675,\n        98.74986914,  98.80833412,  96.81964892,  98.56783189])"
     },
     "execution_count": 67,
     "metadata": {},
     "output_type": "execute_result"
    }
   ],
   "source": [
    "# first row\n",
    "dataset[0]"
   ],
   "metadata": {
    "collapsed": false,
    "pycharm": {
     "name": "#%%\n"
    }
   }
  },
  {
   "cell_type": "code",
   "execution_count": 68,
   "outputs": [
    {
     "data": {
      "text/plain": "array([ 99.14931546,  92.02628776,  95.66253664,  91.37294597,\n       101.20862522, 102.80387079, 106.71751618,  96.02548256,\n       105.30350449, 110.44484313, 101.3514185 ,  97.21315663,\n        95.65982034, 100.39303522, 103.1521596 , 106.11454989,\n        96.78266211, 101.86186193,  97.49594839,  96.76814836,\n       106.89005002,  99.80873105,  96.10020311,  94.11176915])"
     },
     "execution_count": 68,
     "metadata": {},
     "output_type": "execute_result"
    }
   ],
   "source": [
    "# first column\n",
    "dataset[:, 0]"
   ],
   "metadata": {
    "collapsed": false,
    "pycharm": {
     "name": "#%%\n"
    }
   }
  },
  {
   "cell_type": "code",
   "execution_count": 69,
   "outputs": [
    {
     "data": {
      "text/plain": "array([[ 99.80873105, 101.63973121, 106.46476468, 110.43976681,\n        100.69156231,  99.99579473, 101.32113654,  94.76253572],\n       [ 96.10020311,  94.57421727, 100.80409326, 105.02389857,\n         98.61325194,  95.62359311,  97.99762409, 103.83852459],\n       [ 94.11176915,  99.62387832, 104.51786419,  97.62787811,\n         93.97853495,  98.75108352, 106.05042487, 100.07721494]])"
     },
     "execution_count": 69,
     "metadata": {},
     "output_type": "execute_result"
    }
   ],
   "source": [
    "# last 3 row\n",
    "dataset[-3:]"
   ],
   "metadata": {
    "collapsed": false,
    "pycharm": {
     "name": "#%%\n"
    }
   }
  },
  {
   "cell_type": "code",
   "execution_count": 70,
   "outputs": [
    {
     "data": {
      "text/plain": "array([[ 91.37294597, 100.96781394, 100.40118279],\n       [101.20862522, 103.5730309 , 100.28690912],\n       [102.80387079,  98.29687616,  93.24376389],\n       [106.71751618, 102.97585605,  98.45723272],\n       [ 96.02548256, 102.82360856, 106.47551845],\n       [105.30350449,  92.87730812, 103.19258339],\n       [110.44484313,  93.87155456, 101.5363647 ],\n       [101.3514185 , 100.37372248, 106.6471081 ],\n       [ 97.21315663, 107.02874163, 102.17642112],\n       [ 95.65982034, 107.22482426, 107.19119932],\n       [100.39303522,  92.0108226 ,  97.75887636],\n       [103.1521596 , 109.40523174,  93.83969256],\n       [106.11454989,  88.80221141,  94.5081787 ],\n       [ 96.78266211,  99.84251605, 104.03478031],\n       [101.86186193, 103.61720152,  99.57859892],\n       [ 97.49594839,  96.59385486, 104.63817694],\n       [ 96.76814836,  91.6779221 , 101.79132774],\n       [106.89005002, 106.57364584, 102.26648279],\n       [ 99.80873105, 101.63973121, 106.46476468],\n       [ 96.10020311,  94.57421727, 100.80409326],\n       [ 94.11176915,  99.62387832, 104.51786419]])"
     },
     "execution_count": 70,
     "metadata": {},
     "output_type": "execute_result"
    }
   ],
   "source": [
    "# intersection\n",
    "dataset[3:, :3]"
   ],
   "metadata": {
    "collapsed": false,
    "pycharm": {
     "name": "#%%\n"
    }
   }
  },
  {
   "cell_type": "code",
   "execution_count": 71,
   "outputs": [
    {
     "data": {
      "text/plain": "array([ 88.80221141,  91.37294597,  91.6779221 ,  92.0108226 ,\n        92.87730812,  93.24376389,  93.83969256,  93.87155456,\n        94.11176915,  94.5081787 ,  94.57421727,  95.65982034,\n        96.02548256,  96.10020311,  96.59385486,  96.76814836,\n        96.78266211,  97.21315663,  97.49594839,  97.75887636,\n        98.29687616,  98.45723272,  99.57859892,  99.62387832,\n        99.80873105,  99.84251605, 100.28690912, 100.37372248,\n       100.39303522, 100.40118279, 100.80409326, 100.96781394,\n       101.20862522, 101.3514185 , 101.5363647 , 101.63973121,\n       101.79132774, 101.86186193, 102.17642112, 102.26648279,\n       102.80387079, 102.82360856, 102.97585605, 103.1521596 ,\n       103.19258339, 103.5730309 , 103.61720152, 104.03478031,\n       104.51786419, 104.63817694, 105.30350449, 106.11454989,\n       106.46476468, 106.47551845, 106.57364584, 106.6471081 ,\n       106.71751618, 106.89005002, 107.02874163, 107.19119932,\n       107.22482426, 109.40523174, 110.44484313])"
     },
     "execution_count": 71,
     "metadata": {},
     "output_type": "execute_result"
    }
   ],
   "source": [
    "np.intersect1d(dataset[3:], dataset[:,:3])\n"
   ],
   "metadata": {
    "collapsed": false,
    "pycharm": {
     "name": "#%%\n"
    }
   }
  }
 ],
 "metadata": {
  "kernelspec": {
   "display_name": "Python 3",
   "language": "python",
   "name": "python3"
  },
  "language_info": {
   "codemirror_mode": {
    "name": "ipython",
    "version": 3
   },
   "file_extension": ".py",
   "mimetype": "text/x-python",
   "name": "python",
   "nbconvert_exporter": "python",
   "pygments_lexer": "ipython3",
   "version": "3.7.0"
  }
 },
 "nbformat": 4,
 "nbformat_minor": 2
}