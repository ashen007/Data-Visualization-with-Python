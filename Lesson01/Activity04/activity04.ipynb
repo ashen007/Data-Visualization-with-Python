{
 "cells": [
  {
   "cell_type": "markdown",
   "metadata": {},
   "source": [
    "## Activity 04: Use Pandas to compute the Mean, Median, and Variance"
   ]
  },
  {
   "cell_type": "markdown",
   "metadata": {},
   "source": [
    "In this activity, you will consolidate the skills you've acquired in the last exercise and use Pandas to do some very basic mathematical calculations on our `world_population.csv` dataset.   \n",
    "Pandas have a consistent API, so it should be rather easy to transfer your knowledge of the mean method to median and variance.    \n",
    "Your already existing knowledge of NumPy will also help."
   ]
  },
  {
   "cell_type": "markdown",
   "metadata": {},
   "source": [
    "#### Loading the dataset"
   ]
  },
  {
   "cell_type": "code",
   "execution_count": 1,
   "metadata": {},
   "outputs": [],
   "source": [
    "# importing the necessary dependencies\n",
    "import pandas as pd"
   ]
  },
  {
   "cell_type": "code",
   "execution_count": 2,
   "metadata": {},
   "outputs": [],
   "source": [
    "# loading the Dataset\n",
    "dataset = pd.read_csv('./data/world_population.csv', index_col=0)"
   ]
  },
  {
   "cell_type": "code",
   "execution_count": 3,
   "metadata": {},
   "outputs": [
    {
     "data": {
      "text/plain": "             Country Code                                     Indicator Name  \\\nCountry Name                                                                   \nAruba                 ABW  Population density (people per sq. km of land ...   \nAndorra               AND  Population density (people per sq. km of land ...   \n\n             Indicator Code  1960        1961        1962        1963  \\\nCountry Name                                                            \nAruba           EN.POP.DNST   NaN  307.972222  312.366667  314.983333   \nAndorra         EN.POP.DNST   NaN   30.587234   32.714894   34.914894   \n\n                    1964        1965        1966  ...        2007        2008  \\\nCountry Name                                      ...                           \nAruba         316.827778  318.666667  320.622222  ...  562.322222  563.011111   \nAndorra        37.170213   39.470213   41.800000  ...  180.591489  182.161702   \n\n                    2009        2010        2011        2012        2013  \\\nCountry Name                                                               \nAruba         563.422222  564.427778  566.311111  568.850000  571.783333   \nAndorra       181.859574  179.614894  175.161702  168.757447  161.493617   \n\n                    2014        2015  2016  \nCountry Name                                \nAruba         574.672222  577.161111   NaN  \nAndorra       154.863830  149.942553   NaN  \n\n[2 rows x 60 columns]",
      "text/html": "<div>\n<style scoped>\n    .dataframe tbody tr th:only-of-type {\n        vertical-align: middle;\n    }\n\n    .dataframe tbody tr th {\n        vertical-align: top;\n    }\n\n    .dataframe thead th {\n        text-align: right;\n    }\n</style>\n<table border=\"1\" class=\"dataframe\">\n  <thead>\n    <tr style=\"text-align: right;\">\n      <th></th>\n      <th>Country Code</th>\n      <th>Indicator Name</th>\n      <th>Indicator Code</th>\n      <th>1960</th>\n      <th>1961</th>\n      <th>1962</th>\n      <th>1963</th>\n      <th>1964</th>\n      <th>1965</th>\n      <th>1966</th>\n      <th>...</th>\n      <th>2007</th>\n      <th>2008</th>\n      <th>2009</th>\n      <th>2010</th>\n      <th>2011</th>\n      <th>2012</th>\n      <th>2013</th>\n      <th>2014</th>\n      <th>2015</th>\n      <th>2016</th>\n    </tr>\n    <tr>\n      <th>Country Name</th>\n      <th></th>\n      <th></th>\n      <th></th>\n      <th></th>\n      <th></th>\n      <th></th>\n      <th></th>\n      <th></th>\n      <th></th>\n      <th></th>\n      <th></th>\n      <th></th>\n      <th></th>\n      <th></th>\n      <th></th>\n      <th></th>\n      <th></th>\n      <th></th>\n      <th></th>\n      <th></th>\n      <th></th>\n    </tr>\n  </thead>\n  <tbody>\n    <tr>\n      <th>Aruba</th>\n      <td>ABW</td>\n      <td>Population density (people per sq. km of land ...</td>\n      <td>EN.POP.DNST</td>\n      <td>NaN</td>\n      <td>307.972222</td>\n      <td>312.366667</td>\n      <td>314.983333</td>\n      <td>316.827778</td>\n      <td>318.666667</td>\n      <td>320.622222</td>\n      <td>...</td>\n      <td>562.322222</td>\n      <td>563.011111</td>\n      <td>563.422222</td>\n      <td>564.427778</td>\n      <td>566.311111</td>\n      <td>568.850000</td>\n      <td>571.783333</td>\n      <td>574.672222</td>\n      <td>577.161111</td>\n      <td>NaN</td>\n    </tr>\n    <tr>\n      <th>Andorra</th>\n      <td>AND</td>\n      <td>Population density (people per sq. km of land ...</td>\n      <td>EN.POP.DNST</td>\n      <td>NaN</td>\n      <td>30.587234</td>\n      <td>32.714894</td>\n      <td>34.914894</td>\n      <td>37.170213</td>\n      <td>39.470213</td>\n      <td>41.800000</td>\n      <td>...</td>\n      <td>180.591489</td>\n      <td>182.161702</td>\n      <td>181.859574</td>\n      <td>179.614894</td>\n      <td>175.161702</td>\n      <td>168.757447</td>\n      <td>161.493617</td>\n      <td>154.863830</td>\n      <td>149.942553</td>\n      <td>NaN</td>\n    </tr>\n  </tbody>\n</table>\n<p>2 rows × 60 columns</p>\n</div>"
     },
     "execution_count": 3,
     "metadata": {},
     "output_type": "execute_result"
    }
   ],
   "source": [
    "# looking at the first two rows of the dataset\n",
    "dataset.head(2)"
   ]
  },
  {
   "cell_type": "markdown",
   "metadata": {},
   "source": [
    "---"
   ]
  },
  {
   "cell_type": "markdown",
   "metadata": {},
   "source": [
    "#### Mean"
   ]
  },
  {
   "cell_type": "code",
   "execution_count": 14,
   "metadata": {},
   "outputs": [
    {
     "data": {
      "text/plain": "Country Name\nAfghanistan    25.373379\ndtype: float64"
     },
     "execution_count": 14,
     "metadata": {},
     "output_type": "execute_result"
    }
   ],
   "source": [
    "# calculate the mean of the third row\n",
    "dataset.iloc[[2]].mean(axis=1)"
   ]
  },
  {
   "cell_type": "code",
   "execution_count": 15,
   "metadata": {},
   "outputs": [
    {
     "data": {
      "text/plain": "Country Name\nZimbabwe    24.520532\ndtype: float64"
     },
     "execution_count": 15,
     "metadata": {},
     "output_type": "execute_result"
    }
   ],
   "source": [
    "# calculate the mean of the last row\n",
    "dataset.iloc[[-1]].mean(axis=1)"
   ]
  },
  {
   "cell_type": "code",
   "execution_count": 17,
   "metadata": {},
   "outputs": [
    {
     "data": {
      "text/plain": "Country Name\nGermany    227.773688\ndtype: float64"
     },
     "execution_count": 17,
     "metadata": {},
     "output_type": "execute_result"
    }
   ],
   "source": [
    "# calculate the mean of the country Germany\n",
    "dataset.loc[['Germany']].mean(axis=1)"
   ]
  },
  {
   "cell_type": "markdown",
   "metadata": {},
   "source": [
    "**Note:**   \n",
    "`.iloc()` and `.loc()` are two important methods when indexing with Pandas. They allow making precise selections of data based on either the integer value index (`iloc`) or the index column (`loc`), which in our case is the country name column."
   ]
  },
  {
   "cell_type": "markdown",
   "metadata": {},
   "source": [
    "---"
   ]
  },
  {
   "cell_type": "markdown",
   "metadata": {},
   "source": [
    "#### Median"
   ]
  },
  {
   "cell_type": "code",
   "execution_count": 18,
   "metadata": {},
   "outputs": [
    {
     "data": {
      "text/plain": "Country Name\nZimbabwe    25.505431\ndtype: float64"
     },
     "execution_count": 18,
     "metadata": {},
     "output_type": "execute_result"
    }
   ],
   "source": [
    "# calculate the median of the last row\n",
    "dataset.iloc[[-1]].median(axis=1)"
   ]
  },
  {
   "cell_type": "code",
   "execution_count": 22,
   "metadata": {},
   "outputs": [
    {
     "data": {
      "text/plain": "Country Name\nCongo, Dem. Rep.    14.419050\nZambia              10.352668\nZimbabwe            25.505431\ndtype: float64"
     },
     "execution_count": 22,
     "metadata": {},
     "output_type": "execute_result"
    }
   ],
   "source": [
    "# calculate the median of the last 3 rows\n",
    "dataset.iloc[-3:].median(axis=1)"
   ]
  },
  {
   "cell_type": "markdown",
   "metadata": {},
   "source": [
    "**Note:**   \n",
    "Slicing can be done in the same way as with NumPy.   \n",
    "`dataset[1:3]` will return the second and third row of our dataset."
   ]
  },
  {
   "cell_type": "code",
   "execution_count": 25,
   "metadata": {},
   "outputs": [
    {
     "data": {
      "text/plain": "Country Name\nAruba                   348.022222\nAndorra                 107.300000\nAfghanistan              19.998926\nAngola                    8.458253\nAlbania                 106.001058\nArab World               15.307283\nUnited Arab Emirates     19.305072\nArgentina                11.618238\nArmenia                 105.898033\nAmerican Samoa          220.245000\ndtype: float64"
     },
     "execution_count": 25,
     "metadata": {},
     "output_type": "execute_result"
    }
   ],
   "source": [
    "# calculate the median of the first 10 countries\n",
    "dataset[:10].median(axis=1)"
   ]
  },
  {
   "cell_type": "markdown",
   "metadata": {},
   "source": [
    "**Note:**   \n",
    "When handling larger datasets, the order in which methods get executed definitely matters.   \n",
    "Think about what `.head(10)` does for a moment, it simply takes your dataset and returns the first 10 rows of it, cutting down your input to the `.mean()` method drastically.   \n",
    "This will definitely have an impact when using more memory intensive calculations, so keep an eye on the order."
   ]
  },
  {
   "cell_type": "markdown",
   "metadata": {},
   "source": [
    "---"
   ]
  },
  {
   "cell_type": "markdown",
   "metadata": {},
   "source": [
    "#### Variance"
   ]
  },
  {
   "cell_type": "code",
   "execution_count": 28,
   "metadata": {},
   "outputs": [
    {
     "data": {
      "text/plain": "2012    3.063475e+06\n2013    3.094597e+06\n2014    3.157111e+06\n2015    3.220634e+06\n2016             NaN\ndtype: float64"
     },
     "execution_count": 28,
     "metadata": {},
     "output_type": "execute_result"
    }
   ],
   "source": [
    "# calculate the variance of the last 5 columns\n",
    "dataset.var().tail(5)"
   ]
  },
  {
   "cell_type": "markdown",
   "metadata": {},
   "source": [
    "---"
   ]
  },
  {
   "cell_type": "markdown",
   "metadata": {},
   "source": [
    "As mentioned in the introduction of Pandas, it's interoperable with several of NumPy's features.   \n",
    "Here's an example of how to use NumPy's `mean` method with a Pandas DataFrame."
   ]
  },
  {
   "cell_type": "code",
   "execution_count": 34,
   "metadata": {},
   "outputs": [
    {
     "name": "stdout",
     "output_type": "stream",
     "text": [
      "Pandas 368.7066010400187\n",
      "NumPy 368.7066010400187\n"
     ]
    }
   ],
   "source": [
    "# NumPy Pandas interoperability\n",
    "import numpy as np\n",
    "\n",
    "print(\"Pandas\", dataset[\"2015\"].mean())\n",
    "print(\"NumPy\", np.mean(dataset[\"2015\"]))"
   ]
  }
 ],
 "metadata": {
  "kernelspec": {
   "display_name": "Python 3",
   "language": "python",
   "name": "python3"
  },
  "language_info": {
   "codemirror_mode": {
    "name": "ipython",
    "version": 3
   },
   "file_extension": ".py",
   "mimetype": "text/x-python",
   "name": "python",
   "nbconvert_exporter": "python",
   "pygments_lexer": "ipython3",
   "version": "3.7.0"
  }
 },
 "nbformat": 4,
 "nbformat_minor": 2
}